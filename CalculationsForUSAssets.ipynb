{
 "cells": [
  {
   "cell_type": "markdown",
   "metadata": {},
   "source": [
    "# Introduction\n",
    "As part of Canadian tax filings, I am required to disclose my foreign held assets. All of my non-Canadian assets are held in US Accounts. \n",
    "\n",
    "I need to report the Name, the maximum value over the year, and the value at the end of the year, capital gains and finally dividends.\n",
    "\n",
    "I can get the capital gains and the calculation of dividends easily through my statements. However, calculating the maximum value is a royal pain in the ass. This script should do two things, find the maximum value of each shareholding and find the value at the end of the year. \n",
    "\n",
    "Output should be: Name, Max Value, End Value."
   ]
  },
  {
   "cell_type": "code",
   "execution_count": 16,
   "metadata": {},
   "outputs": [],
   "source": [
    "# Import the necessary libraries\n",
    "import pandas as pd\n",
    "import numpy as np\n",
    "from pandas_datareader import data\n",
    "from datetime import datetime\n",
    "import os\n",
    "\n",
    "os.environ[\"TIINGO_API_KEY\"] = \"68da4cacdce89ec36864db8cb024b1c7daac1170\" \n",
    "os.environ[\"IEX_API_KEY\"] = \"pk_bcc7601014a2490fa4e2fa0b330bc242\""
   ]
  },
  {
   "cell_type": "markdown",
   "metadata": {},
   "source": [
    "## Set up\n",
    "First we need to configure dates and set up which data source to use. Pandas as built in connections to a few through the 'pandas_datareader' library. "
   ]
  },
  {
   "cell_type": "code",
   "execution_count": 18,
   "metadata": {},
   "outputs": [],
   "source": [
    "# set tax year\n",
    "taxYear = 2019\n",
    "\n",
    "# Set the data source\n",
    "# some data sources use \"Close\" others use \"close\"\n",
    "dataSource = 'iex'\n",
    "dataSourceCloseKeyWord = {'iex': 'close', 'morningstar': 'Close'}\n",
    "closeValueKeyWord = dataSourceCloseKeyWord[dataSource]"
   ]
  },
  {
   "cell_type": "markdown",
   "metadata": {},
   "source": [
    "Next we tell the script where to find the portfolio. This is stored in a csv file which contains: Account, Symbol, Name, Qty"
   ]
  },
  {
   "cell_type": "code",
   "execution_count": 19,
   "metadata": {},
   "outputs": [],
   "source": [
    "filePath = '/Users/steveyun/Documents/DeathAndTaxes/EquityHoldings.csv'\n",
    "assets = pd.read_csv(filePath)\n",
    "\n",
    "outputFilePath = '/Users/steveyun/Documents/DeathAndTaxes/EquityHoldingTaxFiling2019.csv'"
   ]
  },
  {
   "cell_type": "markdown",
   "metadata": {},
   "source": [
    "Finally we create a function to get the maximum and last asset values for a given equity ticker symbol. We restrict the data request to the calendar year. This is, after all, about filing income taxes."
   ]
  },
  {
   "cell_type": "code",
   "execution_count": 20,
   "metadata": {},
   "outputs": [],
   "source": [
    "# Create function to get max value and closing value based on year\n",
    "def getMaxAndLastValues(ticker, year):\n",
    "    # Get the max closing price value over the year\n",
    "    # and the last closing price value in the year\n",
    "    # ticker needs to be a string and a valid ticker equity ticker symbol\n",
    "    # year needs to be an integer\n",
    "    start = datetime(year, 1, 1)\n",
    "    end = datetime(year, 12, 31)\n",
    "    \n",
    "    def getMaxLast(ticker, dataSource, start, end):\n",
    "        priceHistory = data.DataReader(ticker, dataSource, start, end)\n",
    "    \n",
    "        # max value returns a Pandas Series object\n",
    "        # the index is typicaly close, high, low, open, and volume\n",
    "        # but the index can be capitalized or lower case\n",
    "        # depending on the data source\n",
    "        m = priceHistory.max()\n",
    "        maxValue = m[closeValueKeyWord]\n",
    "        lastValue = priceHistory.loc[max(priceHistory.index)][closeValueKeyWord]\n",
    "        \n",
    "        # return a two dim array: [maxValue, lastValue]\n",
    "        return([maxValue, lastValue])\n",
    "    \n",
    "    if len(ticker) < 5: # stock \n",
    "        return(getMaxLast(ticker, 'iex', start, end))\n",
    "    else:\n",
    "        return(getMaxLast(ticker, 'morningstart', start, end))"
   ]
  },
  {
   "cell_type": "markdown",
   "metadata": {},
   "source": [
    "## First step\n",
    "The portfolio is stored in a seperate CSV file and needs to be imported. Will try importing it as a Pandas file. "
   ]
  },
  {
   "cell_type": "code",
   "execution_count": 21,
   "metadata": {},
   "outputs": [],
   "source": [
    "## Add two colums to the existing data frame: MaxValue, LastValue\n",
    "## Use 0.0 to make sure that the datatype is a float, otherwise\n",
    "## using 0 will make the values integers\n",
    "assets['MaxValue'] = 0.0\n",
    "assets['LastValue'] = 0.0"
   ]
  },
  {
   "cell_type": "code",
   "execution_count": 22,
   "metadata": {},
   "outputs": [],
   "source": [
    "## Test a loop through the tickers\n",
    "\n",
    "for index, asset in assets.iterrows():\n",
    "#    print(row)\n",
    "    ticker = asset['Symbol']\n",
    "#    print(ticker)\n",
    "    number = asset['Qty']\n",
    "#    print(number)\n",
    "    try:\n",
    "        values = getMaxAndLastValues(ticker, taxYear)\n",
    "    except: \n",
    "        values = [0, 0]\n",
    "    \n",
    "    #assets.set_value(index, 'MaxValue', number * values[0])\n",
    "    #assets.set_value(index, 'LastValue', number * values[1])\n",
    "    assets.at[index, 'MaxValue'] = number * values[0]\n",
    "    assets.at[index, 'LastValue'] = number * values[1]\n",
    "    "
   ]
  },
  {
   "cell_type": "code",
   "execution_count": 15,
   "metadata": {},
   "outputs": [],
   "source": [
    "assets.to_csv(outputFilePath, index = False)"
   ]
  },
  {
   "cell_type": "code",
   "execution_count": null,
   "metadata": {
    "collapsed": true
   },
   "outputs": [],
   "source": []
  }
 ],
 "metadata": {
  "kernelspec": {
   "display_name": "Python 3",
   "language": "python",
   "name": "python3"
  },
  "language_info": {
   "codemirror_mode": {
    "name": "ipython",
    "version": 3
   },
   "file_extension": ".py",
   "mimetype": "text/x-python",
   "name": "python",
   "nbconvert_exporter": "python",
   "pygments_lexer": "ipython3",
   "version": "3.7.0"
  }
 },
 "nbformat": 4,
 "nbformat_minor": 2
}
