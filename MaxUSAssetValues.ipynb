{
 "cells": [
  {
   "cell_type": "markdown",
   "metadata": {},
   "source": [
    "# Introduction\n",
    "\n",
    "Get max asset values and dates for CRA filings"
   ]
  },
  {
   "cell_type": "code",
   "execution_count": 50,
   "metadata": {},
   "outputs": [],
   "source": [
    "year = 2019\n",
    "inputFilePath = '/Users/steveyun/Documents/DeathAndTaxes/EquityHoldings.csv'\n",
    "outputFilePath = '/Users/steveyun/Documents/DeathAndTaxes/EquityHoldings2019.csv'"
   ]
  },
  {
   "cell_type": "code",
   "execution_count": 51,
   "metadata": {},
   "outputs": [],
   "source": [
    "import pandas as pd\n",
    "import numpy as np\n",
    "import os\n",
    "os.environ[\"TIINGO_API_KEY\"] = \"68da4cacdce89ec36864db8cb024b1c7daac1170\" \n",
    "\n",
    "import pandas_datareader as pdr\n",
    "from datetime import datetime\n",
    "\n",
    "# Dates\n",
    "startDate = datetime(year, 1, 1)\n",
    "endDate = datetime(year, 12, 31)"
   ]
  },
  {
   "cell_type": "code",
   "execution_count": 52,
   "metadata": {},
   "outputs": [
    {
     "data": {
      "text/plain": [
       "datetime.datetime(2019, 1, 1, 0, 0)"
      ]
     },
     "execution_count": 52,
     "metadata": {},
     "output_type": "execute_result"
    }
   ],
   "source": [
    "startDate"
   ]
  },
  {
   "cell_type": "markdown",
   "metadata": {},
   "source": [
    "# Read in list of assets"
   ]
  },
  {
   "cell_type": "code",
   "execution_count": 53,
   "metadata": {},
   "outputs": [],
   "source": [
    "assets = pd.read_csv(inputFilePath)\n",
    "assets['MaxValue'] = 0.0\n",
    "assets['MaxDate'] = \"\"\n",
    "assets['LastValue'] = 0.0"
   ]
  },
  {
   "cell_type": "code",
   "execution_count": 54,
   "metadata": {},
   "outputs": [],
   "source": [
    "assetList = assets[\"Symbol\"].tolist()\n",
    "#assets[\"Qty\"][assets[\"Symbol\"] == assetList[0]]\n",
    "#df = pdr.get_data_tiingo(assetList, start = startDate, end = endDate, api_key=os.getenv('TIINGO_API_KEY'))"
   ]
  },
  {
   "cell_type": "code",
   "execution_count": 55,
   "metadata": {},
   "outputs": [
    {
     "data": {
      "text/plain": [
       "['C',\n",
       " 'EWC',\n",
       " 'EXP',\n",
       " 'FCX',\n",
       " 'ILF',\n",
       " 'ITB',\n",
       " 'LIN',\n",
       " 'ONEQ',\n",
       " 'USB',\n",
       " 'VNQ',\n",
       " 'VOO',\n",
       " 'XOP',\n",
       " 'FCPVX',\n",
       " 'FDIVX',\n",
       " 'FFFFX',\n",
       " 'FOSFX',\n",
       " 'FRESX',\n",
       " 'FSKAX',\n",
       " 'FXAIX',\n",
       " 'KBE',\n",
       " 'VSIAX',\n",
       " 'GE',\n",
       " 'ITB',\n",
       " 'VNQ',\n",
       " 'VOO',\n",
       " 'BAC',\n",
       " 'CLW',\n",
       " 'DHR',\n",
       " 'EPP',\n",
       " 'EQR',\n",
       " 'EWJ',\n",
       " 'EWM',\n",
       " 'EWS',\n",
       " 'EWY',\n",
       " 'EZA',\n",
       " 'FTV',\n",
       " 'FXI',\n",
       " 'IJS',\n",
       " 'INPTF',\n",
       " 'ITB',\n",
       " 'JPM',\n",
       " 'NCR',\n",
       " 'PCH',\n",
       " 'TDC',\n",
       " 'VEURX',\n",
       " 'VMBS',\n",
       " 'VNQ',\n",
       " 'VOO',\n",
       " 'VWO',\n",
       " 'XOP']"
      ]
     },
     "execution_count": 55,
     "metadata": {},
     "output_type": "execute_result"
    }
   ],
   "source": [
    "assetList"
   ]
  },
  {
   "cell_type": "code",
   "execution_count": 56,
   "metadata": {},
   "outputs": [],
   "source": [
    "df = pdr.get_data_tiingo(assetList, start = startDate, end = endDate, api_key=os.getenv('TIINGO_API_KEY'))"
   ]
  },
  {
   "cell_type": "code",
   "execution_count": 84,
   "metadata": {},
   "outputs": [],
   "source": [
    "outputFile = \"Symbol,Country,MaxValue,MaxValueDate,YearEndValue\\n\"\n",
    "for i in range(len(assetList)):\n",
    "    #df = pdr.get_data_tiingo(asset, start = startDate, end = endDate, api_key=os.getenv('TIINGO_API_KEY'))\n",
    "    temp = df.loc[assetList[i]][\"adjClose\"]\n",
    "    # Get the date\n",
    "    maxValue = temp.max()\n",
    "    qty = assets.loc[i][\"Qty\"]\n",
    "    output = [assets.loc[i][\"Symbol\"], \"USA\", str(temp.max() * qty), str(temp.index[temp == maxValue].date[0]), str(temp[-1] * qty)]\n",
    "    outputFile += \",\".join(output) + \"\\n\""
   ]
  },
  {
   "cell_type": "code",
   "execution_count": 85,
   "metadata": {},
   "outputs": [
    {
     "data": {
      "text/plain": [
       "Account            TD\n",
       "Symbol              C\n",
       "Name         CITICORP\n",
       "Qty                50\n",
       "MaxValue            0\n",
       "MaxDate              \n",
       "LastValue           0\n",
       "Name: 0, dtype: object"
      ]
     },
     "execution_count": 85,
     "metadata": {},
     "output_type": "execute_result"
    }
   ],
   "source": [
    "assets.loc[0]"
   ]
  },
  {
   "cell_type": "code",
   "execution_count": 86,
   "metadata": {},
   "outputs": [
    {
     "name": "stdout",
     "output_type": "stream",
     "text": [
      "Symbol,Country,MaxValue,MaxValueDate,YearEndValue\n",
      "C,USA,3967.3083956200003,2019-12-31,3967.3083956200003\n",
      "EWC,USA,4109.875,2019-12-31,4109.875\n",
      "EXP,USA,6196.7970610845005,2019-10-22,5892.9\n",
      "FCX,USA,1576.0365047325,2019-04-17,1470.43438914375\n",
      "ILF,USA,5169.003007395,2019-07-11,5095.5\n",
      "ITB,USA,7448.0450150925,2019-11-26,7218.25\n",
      "LIN,USA,5322.5,2019-12-31,5322.5\n",
      "ONEQ,USA,19322.05,2019-12-26,19225.25\n",
      "USB,USA,5272.07778150375,2019-12-17,5187.875\n",
      "VNQ,USA,7068.817558199999,2019-10-21,6959.250000000001\n",
      "VOO,USA,34858.725,2019-12-26,34756.5\n",
      "XOP,USA,4076.5356281624995,2019-04-22,2962.5\n",
      "FCPVX,USA,11716.80858,2019-12-20,11648.378160000002\n",
      "FDIVX,USA,25115.353240000004,2019-12-27,25034.994000000002\n",
      "FFFFX,USA,8391.686518193845,2019-12-27,8362.139340000002\n",
      "FOSFX,USA,1419.6962,2019-12-27,1416.9596999999999\n",
      "FRESX,USA,17182.702467974534,2019-10-24,16644.363429999998\n",
      "FSKAX,USA,4321.007699999999,2019-12-26,4308.6415799999995\n",
      "FXAIX,USA,119622.26015999999,2019-12-26,119302.75625999998\n",
      "KBE,USA,5621.293707254318,2019-12-17,5574.63978\n",
      "VSIAX,USA,21082.60361636974,2019-12-20,21067.190820000003\n",
      "GE,USA,2009.0918405495188,2019-11-25,1937.9786400000003\n",
      "ITB,USA,17355.5032453533,2019-11-26,16820.03278\n",
      "VNQ,USA,24427.759961322125,2019-10-21,24049.126620000003\n",
      "VOO,USA,10233.33498,2019-12-26,10203.325200000001\n",
      "BAC,USA,1522.8134400000001,2019-12-26,1509.95184\n",
      "CLW,USA,279.68,2019-02-20,170.88\n",
      "DHR,USA,6378.6287999999995,2019-12-31,6378.6287999999995\n",
      "EPP,USA,3137.972742009385,2019-07-03,3095.1549999999997\n",
      "EQR,USA,3125.6793998095904,2019-10-30,2866.6719200000002\n",
      "EWJ,USA,5809.60469,2019-12-16,5708.42564\n",
      "EWM,USA,3064.049788988931,2019-02-20,2867.50729\n",
      "EWS,USA,3767.6749742702395,2019-07-01,3746.4797199999994\n",
      "EWY,USA,7471.923536513457,2019-02-05,7277.0384699999995\n",
      "EZA,USA,1409.064151769971,2019-04-18,1339.6535999999999\n",
      "FTV,USA,1788.3552853184617,2019-04-24,1538.3418199999999\n",
      "FXI,USA,8621.352736909772,2019-04-05,8440.747060000002\n",
      "IJS,USA,20942.666540000002,2019-12-19,20904.9648\n",
      "INPTF,USA,6675.0,2019-06-03,6450.0\n",
      "ITB,USA,9314.227174074076,2019-11-26,9026.85472\n",
      "JPM,USA,56449.13148870153,2019-12-31,56449.13148870153\n",
      "NCR,USA,1200.54,2019-12-26,1195.4399999999998\n",
      "PCH,USA,6372.787310000001,2019-12-20,6268.48163\n",
      "TDC,USA,1675.52,2019-03-01,910.18\n",
      "VEURX,USA,9854.889969999998,2019-12-27,9823.594669999999\n",
      "VMBS,USA,5819.662375426062,2019-12-30,5819.115157516646\n",
      "VNQ,USA,9924.054346308143,2019-10-21,9770.23026\n",
      "VOO,USA,48688.590390000005,2019-12-26,48545.808600000004\n",
      "VWO,USA,4406.53119,2019-12-27,4392.70213\n",
      "XOP,USA,1400.6650295516095,2019-04-22,1017.8912999999999\n",
      "\n"
     ]
    }
   ],
   "source": [
    "print(outputFile)"
   ]
  },
  {
   "cell_type": "code",
   "execution_count": 87,
   "metadata": {},
   "outputs": [],
   "source": [
    "f = open(outputFilePath, 'w')\n",
    "f.write(outputFile)\n",
    "f.close()"
   ]
  },
  {
   "cell_type": "code",
   "execution_count": null,
   "metadata": {},
   "outputs": [],
   "source": []
  }
 ],
 "metadata": {
  "kernelspec": {
   "display_name": "Python 3",
   "language": "python",
   "name": "python3"
  },
  "language_info": {
   "codemirror_mode": {
    "name": "ipython",
    "version": 3
   },
   "file_extension": ".py",
   "mimetype": "text/x-python",
   "name": "python",
   "nbconvert_exporter": "python",
   "pygments_lexer": "ipython3",
   "version": "3.7.0"
  }
 },
 "nbformat": 4,
 "nbformat_minor": 2
}
